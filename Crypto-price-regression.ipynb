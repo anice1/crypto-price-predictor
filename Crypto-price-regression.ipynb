{
 "cells": [
  {
   "cell_type": "markdown",
   "id": "patent-peter",
   "metadata": {},
   "source": [
    "# Intro\n",
    "The dataset has one csv file for each currency. Price history is available on a daily basis from April 28, 2013. This dataset has the historical price information of some of the top crypto currencies by market capitalization.\n",
    "\n",
    "* Date : date of observation\n",
    "* Open : Opening price on the given day\n",
    "* High : Highest price on the given day\n",
    "* Low : Lowest price on the given day\n",
    "* Close : Closing price on the given day\n",
    "* Volume : Volume of transactions on the given day\n",
    "* Market Cap : Market capitalization in USD\n",
    "\n",
    "# Objective\n",
    "The main objective of this project is to produce a workable model that will be able to predict the price of crypto currencies.\n",
    "\n",
    "# Workflow\n",
    "1. Get the data ready\n",
    "2. Pick a model to solve the problem\n",
    "3. Split data into training and testing sets (Feature Engineering)\n",
    "4. Fit the model to data and make prediction\n",
    "5. save and reload trained data"
   ]
  },
  {
   "cell_type": "code",
   "execution_count": 2,
   "id": "consistent-agenda",
   "metadata": {},
   "outputs": [],
   "source": [
    "import pandas as pd\n",
    "import numpy as np\n",
    "import matplotlib.pyplot as plt"
   ]
  },
  {
   "cell_type": "markdown",
   "id": "through-reach",
   "metadata": {},
   "source": [
    "# 1. Get the data ready\n",
    "\n",
    "## Unzip Dataset"
   ]
  },
  {
   "cell_type": "code",
   "execution_count": 3,
   "id": "lasting-laser",
   "metadata": {},
   "outputs": [],
   "source": [
    "# Unzip the data\n",
    "import zipfile\n",
    "with zipfile.ZipFile(\"crypto data set/archive.zip\",\"r\") as zip_ref:\n",
    "    zip_ref.extractall(\"crypto data set\")"
   ]
  },
  {
   "cell_type": "markdown",
   "id": "arctic-saturday",
   "metadata": {},
   "source": [
    "## Get All CSV's Into One Dataset"
   ]
  },
  {
   "cell_type": "code",
   "execution_count": 4,
   "id": "prospective-annual",
   "metadata": {},
   "outputs": [],
   "source": [
    "# get all CSV files in the unzipped file\n",
    "import os\n",
    "\n",
    "path = 'C:/Users/AC Nice/Documents/DATA SCIENCE PROJECT/main projects/Crypto Price Predictor/crypto data set'\n",
    "try:\n",
    "    file = os.listdir(path)\n",
    "except FileNotFoundError:\n",
    "    print('Path not found')\n",
    "    \n",
    "data = [pd.read_csv('crypto data set/'+i) for i in file[0:23]]\n",
    "df = pd.concat(data)\n",
    "df.to_csv('crypto data set/Exported_crypto_data.csv')"
   ]
  },
  {
   "cell_type": "markdown",
   "id": "retired-niagara",
   "metadata": {},
   "source": [
    "## Read CSV"
   ]
  },
  {
   "cell_type": "code",
   "execution_count": 5,
   "id": "coordinate-living",
   "metadata": {},
   "outputs": [],
   "source": [
    "main_df = pd.read_csv('crypto data set/Exported_crypto_data.csv', index_col=False, parse_dates=['Date'])\n",
    "df = main_df.copy()"
   ]
  },
  {
   "cell_type": "code",
   "execution_count": 6,
   "id": "valid-jordan",
   "metadata": {},
   "outputs": [
    {
     "data": {
      "text/plain": [
       "(Unnamed: 0    0\n",
       " SNo           0\n",
       " Name          0\n",
       " Symbol        0\n",
       " Date          0\n",
       " High          0\n",
       " Low           0\n",
       " Open          0\n",
       " Close         0\n",
       " Volume        0\n",
       " Marketcap     0\n",
       " dtype: int64,\n",
       " (34115, 11))"
      ]
     },
     "execution_count": 6,
     "metadata": {},
     "output_type": "execute_result"
    }
   ],
   "source": [
    "# check for missing values\n",
    "df.isna().sum(), df.shape"
   ]
  },
  {
   "cell_type": "code",
   "execution_count": 7,
   "id": "dedicated-career",
   "metadata": {},
   "outputs": [
    {
     "name": "stdout",
     "output_type": "stream",
     "text": [
      "<class 'pandas.core.frame.DataFrame'>\n",
      "RangeIndex: 34115 entries, 0 to 34114\n",
      "Data columns (total 11 columns):\n",
      " #   Column      Non-Null Count  Dtype         \n",
      "---  ------      --------------  -----         \n",
      " 0   Unnamed: 0  34115 non-null  int64         \n",
      " 1   SNo         34115 non-null  int64         \n",
      " 2   Name        34115 non-null  object        \n",
      " 3   Symbol      34115 non-null  object        \n",
      " 4   Date        34115 non-null  datetime64[ns]\n",
      " 5   High        34115 non-null  float64       \n",
      " 6   Low         34115 non-null  float64       \n",
      " 7   Open        34115 non-null  float64       \n",
      " 8   Close       34115 non-null  float64       \n",
      " 9   Volume      34115 non-null  float64       \n",
      " 10  Marketcap   34115 non-null  float64       \n",
      "dtypes: datetime64[ns](1), float64(6), int64(2), object(2)\n",
      "memory usage: 2.9+ MB\n"
     ]
    }
   ],
   "source": [
    "df.info()"
   ]
  },
  {
   "cell_type": "code",
   "execution_count": 8,
   "id": "imported-nomination",
   "metadata": {},
   "outputs": [
    {
     "data": {
      "text/plain": [
       "Index(['Symbol', 'Date', 'High', 'Low', 'Open', 'Close', 'Volume',\n",
       "       'Marketcap'],\n",
       "      dtype='object')"
      ]
     },
     "execution_count": 8,
     "metadata": {},
     "output_type": "execute_result"
    }
   ],
   "source": [
    "# Drop the name column since we have the symbol column\n",
    "df.drop(['Unnamed: 0','SNo','Name'], axis=1, inplace=True)\n",
    "df.columns"
   ]
  },
  {
   "cell_type": "markdown",
   "id": "flying-wheel",
   "metadata": {},
   "source": [
    "# Feature Engineering"
   ]
  },
  {
   "cell_type": "markdown",
   "id": "varied-travel",
   "metadata": {},
   "source": [
    "## Sort the Datetime Object"
   ]
  },
  {
   "cell_type": "code",
   "execution_count": 9,
   "id": "refined-sweden",
   "metadata": {},
   "outputs": [
    {
     "data": {
      "text/html": [
       "<div>\n",
       "<style scoped>\n",
       "    .dataframe tbody tr th:only-of-type {\n",
       "        vertical-align: middle;\n",
       "    }\n",
       "\n",
       "    .dataframe tbody tr th {\n",
       "        vertical-align: top;\n",
       "    }\n",
       "\n",
       "    .dataframe thead th {\n",
       "        text-align: right;\n",
       "    }\n",
       "</style>\n",
       "<table border=\"1\" class=\"dataframe\">\n",
       "  <thead>\n",
       "    <tr style=\"text-align: right;\">\n",
       "      <th></th>\n",
       "      <th>Symbol</th>\n",
       "      <th>Date</th>\n",
       "      <th>High</th>\n",
       "      <th>Low</th>\n",
       "      <th>Open</th>\n",
       "      <th>Close</th>\n",
       "      <th>Volume</th>\n",
       "      <th>Marketcap</th>\n",
       "    </tr>\n",
       "  </thead>\n",
       "  <tbody>\n",
       "    <tr>\n",
       "      <th>15698</th>\n",
       "      <td>LTC</td>\n",
       "      <td>2013-04-29 23:59:59</td>\n",
       "      <td>4.573600</td>\n",
       "      <td>4.225640</td>\n",
       "      <td>4.36676</td>\n",
       "      <td>4.383900</td>\n",
       "      <td>0.0</td>\n",
       "      <td>7.538896e+07</td>\n",
       "    </tr>\n",
       "    <tr>\n",
       "      <th>1459</th>\n",
       "      <td>BTC</td>\n",
       "      <td>2013-04-29 23:59:59</td>\n",
       "      <td>147.488007</td>\n",
       "      <td>134.000000</td>\n",
       "      <td>134.44400</td>\n",
       "      <td>144.539993</td>\n",
       "      <td>0.0</td>\n",
       "      <td>1.603769e+09</td>\n",
       "    </tr>\n",
       "    <tr>\n",
       "      <th>1460</th>\n",
       "      <td>BTC</td>\n",
       "      <td>2013-04-30 23:59:59</td>\n",
       "      <td>146.929993</td>\n",
       "      <td>134.050003</td>\n",
       "      <td>144.00000</td>\n",
       "      <td>139.000000</td>\n",
       "      <td>0.0</td>\n",
       "      <td>1.542813e+09</td>\n",
       "    </tr>\n",
       "    <tr>\n",
       "      <th>15699</th>\n",
       "      <td>LTC</td>\n",
       "      <td>2013-04-30 23:59:59</td>\n",
       "      <td>4.572380</td>\n",
       "      <td>4.168960</td>\n",
       "      <td>4.40352</td>\n",
       "      <td>4.296490</td>\n",
       "      <td>0.0</td>\n",
       "      <td>7.402092e+07</td>\n",
       "    </tr>\n",
       "    <tr>\n",
       "      <th>15700</th>\n",
       "      <td>LTC</td>\n",
       "      <td>2013-05-01 23:59:59</td>\n",
       "      <td>4.356860</td>\n",
       "      <td>3.520290</td>\n",
       "      <td>4.28954</td>\n",
       "      <td>3.801010</td>\n",
       "      <td>0.0</td>\n",
       "      <td>6.560460e+07</td>\n",
       "    </tr>\n",
       "  </tbody>\n",
       "</table>\n",
       "</div>"
      ],
      "text/plain": [
       "      Symbol                Date        High         Low       Open  \\\n",
       "15698    LTC 2013-04-29 23:59:59    4.573600    4.225640    4.36676   \n",
       "1459     BTC 2013-04-29 23:59:59  147.488007  134.000000  134.44400   \n",
       "1460     BTC 2013-04-30 23:59:59  146.929993  134.050003  144.00000   \n",
       "15699    LTC 2013-04-30 23:59:59    4.572380    4.168960    4.40352   \n",
       "15700    LTC 2013-05-01 23:59:59    4.356860    3.520290    4.28954   \n",
       "\n",
       "            Close  Volume     Marketcap  \n",
       "15698    4.383900     0.0  7.538896e+07  \n",
       "1459   144.539993     0.0  1.603769e+09  \n",
       "1460   139.000000     0.0  1.542813e+09  \n",
       "15699    4.296490     0.0  7.402092e+07  \n",
       "15700    3.801010     0.0  6.560460e+07  "
      ]
     },
     "execution_count": 9,
     "metadata": {},
     "output_type": "execute_result"
    }
   ],
   "source": [
    "# Sort the dates colums in ascending order\n",
    "df.sort_values(by=['Date'], ascending=True, inplace=True)\n",
    "df.head()"
   ]
  },
  {
   "cell_type": "markdown",
   "id": "aware-schema",
   "metadata": {},
   "source": [
    "## Create Year, Month, Day Columns from Date column"
   ]
  },
  {
   "cell_type": "code",
   "execution_count": 10,
   "id": "stuffed-battery",
   "metadata": {},
   "outputs": [],
   "source": [
    "df['Year'] = df['Date'].dt.year\n",
    "df['Month'] = df['Date'].dt.month\n",
    "df['Day'] = df['Date'].dt.day\n",
    "df.drop('Date', axis=1, inplace=True)"
   ]
  },
  {
   "cell_type": "code",
   "execution_count": 11,
   "id": "conservative-annex",
   "metadata": {},
   "outputs": [
    {
     "data": {
      "text/plain": [
       "LTC      2862\n",
       "BTC      2862\n",
       "XRP      2764\n",
       "DOGE     2631\n",
       "XMR      2473\n",
       "XLM      2398\n",
       "USDT     2189\n",
       "XEM      2159\n",
       "ETH      2031\n",
       "MIOTA    1355\n",
       "EOS      1337\n",
       "BNB      1313\n",
       "TRX      1263\n",
       "LINK     1256\n",
       "ADA      1245\n",
       "USDC      873\n",
       "CRO       806\n",
       "WBTC      759\n",
       "ATOM      716\n",
       "SOL       323\n",
       "DOT       191\n",
       "UNI       163\n",
       "AAVE      146\n",
       "Name: Symbol, dtype: int64"
      ]
     },
     "execution_count": 11,
     "metadata": {},
     "output_type": "execute_result"
    }
   ],
   "source": [
    "df.Symbol.value_counts()"
   ]
  },
  {
   "cell_type": "markdown",
   "id": "civic-vocabulary",
   "metadata": {},
   "source": [
    "## Convert Categorical Features to Numbers\n",
    "The only categorical features here is the <code>Symbol</code>"
   ]
  },
  {
   "cell_type": "code",
   "execution_count": 12,
   "id": "photographic-address",
   "metadata": {},
   "outputs": [],
   "source": [
    "# Change Object datatypes to categorical datatypes\n",
    "for key, content in df.items():\n",
    "    if pd.api.types.is_string_dtype(content):\n",
    "        df[key] = content.astype('category').cat.as_ordered()\n",
    "        df[key] = pd.Categorical(content).codes"
   ]
  },
  {
   "cell_type": "markdown",
   "id": "institutional-beast",
   "metadata": {},
   "source": [
    "Compare each symbol to its categorical code"
   ]
  },
  {
   "cell_type": "code",
   "execution_count": 13,
   "id": "color-living",
   "metadata": {},
   "outputs": [],
   "source": [
    "# Create a dataframe of pointing each symbol to its code\n",
    "\n",
    "def get_symbol_code(df):\n",
    "    for key,content in df.drop('Name',axis=1).items():\n",
    "        if pd.api.types.is_string_dtype(content):\n",
    "            con = content.astype('category').cat.as_ordered()\n",
    "            return con\n",
    "con = get_symbol_code(main_df)"
   ]
  },
  {
   "cell_type": "code",
   "execution_count": 14,
   "id": "played-collapse",
   "metadata": {},
   "outputs": [
    {
     "data": {
      "text/html": [
       "<div>\n",
       "<style scoped>\n",
       "    .dataframe tbody tr th:only-of-type {\n",
       "        vertical-align: middle;\n",
       "    }\n",
       "\n",
       "    .dataframe tbody tr th {\n",
       "        vertical-align: top;\n",
       "    }\n",
       "\n",
       "    .dataframe thead th {\n",
       "        text-align: right;\n",
       "    }\n",
       "</style>\n",
       "<table border=\"1\" class=\"dataframe\">\n",
       "  <thead>\n",
       "    <tr style=\"text-align: right;\">\n",
       "      <th></th>\n",
       "      <th>Codes</th>\n",
       "      <th>Symbols</th>\n",
       "    </tr>\n",
       "  </thead>\n",
       "  <tbody>\n",
       "    <tr>\n",
       "      <th>0</th>\n",
       "      <td>0</td>\n",
       "      <td>AAVE</td>\n",
       "    </tr>\n",
       "    <tr>\n",
       "      <th>3</th>\n",
       "      <td>1</td>\n",
       "      <td>ADA</td>\n",
       "    </tr>\n",
       "    <tr>\n",
       "      <th>5</th>\n",
       "      <td>2</td>\n",
       "      <td>ATOM</td>\n",
       "    </tr>\n",
       "    <tr>\n",
       "      <th>1</th>\n",
       "      <td>3</td>\n",
       "      <td>BNB</td>\n",
       "    </tr>\n",
       "    <tr>\n",
       "      <th>2</th>\n",
       "      <td>4</td>\n",
       "      <td>BTC</td>\n",
       "    </tr>\n",
       "    <tr>\n",
       "      <th>6</th>\n",
       "      <td>5</td>\n",
       "      <td>CRO</td>\n",
       "    </tr>\n",
       "    <tr>\n",
       "      <th>7</th>\n",
       "      <td>6</td>\n",
       "      <td>DOGE</td>\n",
       "    </tr>\n",
       "    <tr>\n",
       "      <th>14</th>\n",
       "      <td>7</td>\n",
       "      <td>DOT</td>\n",
       "    </tr>\n",
       "    <tr>\n",
       "      <th>8</th>\n",
       "      <td>8</td>\n",
       "      <td>EOS</td>\n",
       "    </tr>\n",
       "    <tr>\n",
       "      <th>9</th>\n",
       "      <td>9</td>\n",
       "      <td>ETH</td>\n",
       "    </tr>\n",
       "    <tr>\n",
       "      <th>4</th>\n",
       "      <td>10</td>\n",
       "      <td>LINK</td>\n",
       "    </tr>\n",
       "    <tr>\n",
       "      <th>11</th>\n",
       "      <td>11</td>\n",
       "      <td>LTC</td>\n",
       "    </tr>\n",
       "    <tr>\n",
       "      <th>10</th>\n",
       "      <td>12</td>\n",
       "      <td>MIOTA</td>\n",
       "    </tr>\n",
       "    <tr>\n",
       "      <th>15</th>\n",
       "      <td>13</td>\n",
       "      <td>SOL</td>\n",
       "    </tr>\n",
       "    <tr>\n",
       "      <th>18</th>\n",
       "      <td>14</td>\n",
       "      <td>TRX</td>\n",
       "    </tr>\n",
       "    <tr>\n",
       "      <th>19</th>\n",
       "      <td>15</td>\n",
       "      <td>UNI</td>\n",
       "    </tr>\n",
       "    <tr>\n",
       "      <th>20</th>\n",
       "      <td>16</td>\n",
       "      <td>USDC</td>\n",
       "    </tr>\n",
       "    <tr>\n",
       "      <th>17</th>\n",
       "      <td>17</td>\n",
       "      <td>USDT</td>\n",
       "    </tr>\n",
       "    <tr>\n",
       "      <th>21</th>\n",
       "      <td>18</td>\n",
       "      <td>WBTC</td>\n",
       "    </tr>\n",
       "    <tr>\n",
       "      <th>13</th>\n",
       "      <td>19</td>\n",
       "      <td>XEM</td>\n",
       "    </tr>\n",
       "    <tr>\n",
       "      <th>16</th>\n",
       "      <td>20</td>\n",
       "      <td>XLM</td>\n",
       "    </tr>\n",
       "    <tr>\n",
       "      <th>12</th>\n",
       "      <td>21</td>\n",
       "      <td>XMR</td>\n",
       "    </tr>\n",
       "    <tr>\n",
       "      <th>22</th>\n",
       "      <td>22</td>\n",
       "      <td>XRP</td>\n",
       "    </tr>\n",
       "  </tbody>\n",
       "</table>\n",
       "</div>"
      ],
      "text/plain": [
       "    Codes Symbols\n",
       "0       0    AAVE\n",
       "3       1     ADA\n",
       "5       2    ATOM\n",
       "1       3     BNB\n",
       "2       4     BTC\n",
       "6       5     CRO\n",
       "7       6    DOGE\n",
       "14      7     DOT\n",
       "8       8     EOS\n",
       "9       9     ETH\n",
       "4      10    LINK\n",
       "11     11     LTC\n",
       "10     12   MIOTA\n",
       "15     13     SOL\n",
       "18     14     TRX\n",
       "19     15     UNI\n",
       "20     16    USDC\n",
       "17     17    USDT\n",
       "21     18    WBTC\n",
       "13     19     XEM\n",
       "16     20     XLM\n",
       "12     21     XMR\n",
       "22     22     XRP"
      ]
     },
     "execution_count": 14,
     "metadata": {},
     "output_type": "execute_result"
    }
   ],
   "source": [
    "# Create a dataframe of pointing each symbol to its code\n",
    "symbol_and_code = pd.DataFrame({'Codes':pd.Categorical(con).codes,'Symbol':con})\n",
    "symbol_and_code = pd.DataFrame({'Codes':symbol_and_code.Codes.unique(),'Symbols': con.unique()})\n",
    "symbol_and_code.sort_values(by=['Codes'], inplace=True)\n",
    "symbol_and_code"
   ]
  },
  {
   "cell_type": "code",
   "execution_count": 22,
   "id": "celtic-textbook",
   "metadata": {},
   "outputs": [],
   "source": [
    "# Export Symbols and codes \n",
    "symbol_and_code.to_csv('crypto data set/Symbols_and_code.csv')"
   ]
  },
  {
   "cell_type": "code",
   "execution_count": 19,
   "id": "instructional-subcommittee",
   "metadata": {},
   "outputs": [
    {
     "data": {
      "text/html": [
       "<div>\n",
       "<style scoped>\n",
       "    .dataframe tbody tr th:only-of-type {\n",
       "        vertical-align: middle;\n",
       "    }\n",
       "\n",
       "    .dataframe tbody tr th {\n",
       "        vertical-align: top;\n",
       "    }\n",
       "\n",
       "    .dataframe thead th {\n",
       "        text-align: right;\n",
       "    }\n",
       "</style>\n",
       "<table border=\"1\" class=\"dataframe\">\n",
       "  <thead>\n",
       "    <tr style=\"text-align: right;\">\n",
       "      <th></th>\n",
       "      <th>Symbol</th>\n",
       "      <th>High</th>\n",
       "      <th>Low</th>\n",
       "      <th>Open</th>\n",
       "      <th>Close</th>\n",
       "      <th>Volume</th>\n",
       "      <th>Marketcap</th>\n",
       "      <th>Year</th>\n",
       "      <th>Month</th>\n",
       "      <th>Day</th>\n",
       "    </tr>\n",
       "  </thead>\n",
       "  <tbody>\n",
       "    <tr>\n",
       "      <th>8344</th>\n",
       "      <td>6</td>\n",
       "      <td>0.000866</td>\n",
       "      <td>0.000150</td>\n",
       "      <td>0.000299</td>\n",
       "      <td>0.000205</td>\n",
       "      <td>0.000000e+00</td>\n",
       "      <td>1.509085e+06</td>\n",
       "      <td>2013</td>\n",
       "      <td>12</td>\n",
       "      <td>16</td>\n",
       "    </tr>\n",
       "    <tr>\n",
       "      <th>8345</th>\n",
       "      <td>6</td>\n",
       "      <td>0.000289</td>\n",
       "      <td>0.000116</td>\n",
       "      <td>0.000207</td>\n",
       "      <td>0.000269</td>\n",
       "      <td>0.000000e+00</td>\n",
       "      <td>2.169688e+06</td>\n",
       "      <td>2013</td>\n",
       "      <td>12</td>\n",
       "      <td>17</td>\n",
       "    </tr>\n",
       "    <tr>\n",
       "      <th>8346</th>\n",
       "      <td>6</td>\n",
       "      <td>0.000362</td>\n",
       "      <td>0.000205</td>\n",
       "      <td>0.000267</td>\n",
       "      <td>0.000362</td>\n",
       "      <td>0.000000e+00</td>\n",
       "      <td>3.188943e+06</td>\n",
       "      <td>2013</td>\n",
       "      <td>12</td>\n",
       "      <td>18</td>\n",
       "    </tr>\n",
       "    <tr>\n",
       "      <th>8347</th>\n",
       "      <td>6</td>\n",
       "      <td>0.001520</td>\n",
       "      <td>0.000328</td>\n",
       "      <td>0.000395</td>\n",
       "      <td>0.001162</td>\n",
       "      <td>0.000000e+00</td>\n",
       "      <td>1.115034e+07</td>\n",
       "      <td>2013</td>\n",
       "      <td>12</td>\n",
       "      <td>19</td>\n",
       "    </tr>\n",
       "    <tr>\n",
       "      <th>8348</th>\n",
       "      <td>6</td>\n",
       "      <td>0.001143</td>\n",
       "      <td>0.000662</td>\n",
       "      <td>0.001143</td>\n",
       "      <td>0.000704</td>\n",
       "      <td>0.000000e+00</td>\n",
       "      <td>7.284337e+06</td>\n",
       "      <td>2013</td>\n",
       "      <td>12</td>\n",
       "      <td>20</td>\n",
       "    </tr>\n",
       "    <tr>\n",
       "      <th>...</th>\n",
       "      <td>...</td>\n",
       "      <td>...</td>\n",
       "      <td>...</td>\n",
       "      <td>...</td>\n",
       "      <td>...</td>\n",
       "      <td>...</td>\n",
       "      <td>...</td>\n",
       "      <td>...</td>\n",
       "      <td>...</td>\n",
       "      <td>...</td>\n",
       "    </tr>\n",
       "    <tr>\n",
       "      <th>10970</th>\n",
       "      <td>6</td>\n",
       "      <td>0.053768</td>\n",
       "      <td>0.042410</td>\n",
       "      <td>0.053698</td>\n",
       "      <td>0.047392</td>\n",
       "      <td>2.394345e+09</td>\n",
       "      <td>6.089686e+09</td>\n",
       "      <td>2021</td>\n",
       "      <td>2</td>\n",
       "      <td>23</td>\n",
       "    </tr>\n",
       "    <tr>\n",
       "      <th>10971</th>\n",
       "      <td>6</td>\n",
       "      <td>0.059873</td>\n",
       "      <td>0.046216</td>\n",
       "      <td>0.047414</td>\n",
       "      <td>0.056555</td>\n",
       "      <td>4.148512e+09</td>\n",
       "      <td>7.267918e+09</td>\n",
       "      <td>2021</td>\n",
       "      <td>2</td>\n",
       "      <td>24</td>\n",
       "    </tr>\n",
       "    <tr>\n",
       "      <th>10972</th>\n",
       "      <td>6</td>\n",
       "      <td>0.057808</td>\n",
       "      <td>0.049869</td>\n",
       "      <td>0.056615</td>\n",
       "      <td>0.050167</td>\n",
       "      <td>2.356982e+09</td>\n",
       "      <td>6.447665e+09</td>\n",
       "      <td>2021</td>\n",
       "      <td>2</td>\n",
       "      <td>25</td>\n",
       "    </tr>\n",
       "    <tr>\n",
       "      <th>10973</th>\n",
       "      <td>6</td>\n",
       "      <td>0.052472</td>\n",
       "      <td>0.048708</td>\n",
       "      <td>0.050138</td>\n",
       "      <td>0.050480</td>\n",
       "      <td>1.694323e+09</td>\n",
       "      <td>6.488523e+09</td>\n",
       "      <td>2021</td>\n",
       "      <td>2</td>\n",
       "      <td>26</td>\n",
       "    </tr>\n",
       "    <tr>\n",
       "      <th>10974</th>\n",
       "      <td>6</td>\n",
       "      <td>0.051920</td>\n",
       "      <td>0.049297</td>\n",
       "      <td>0.050500</td>\n",
       "      <td>0.050083</td>\n",
       "      <td>1.286230e+09</td>\n",
       "      <td>6.438193e+09</td>\n",
       "      <td>2021</td>\n",
       "      <td>2</td>\n",
       "      <td>27</td>\n",
       "    </tr>\n",
       "  </tbody>\n",
       "</table>\n",
       "<p>2631 rows × 10 columns</p>\n",
       "</div>"
      ],
      "text/plain": [
       "       Symbol      High       Low      Open     Close        Volume  \\\n",
       "8344        6  0.000866  0.000150  0.000299  0.000205  0.000000e+00   \n",
       "8345        6  0.000289  0.000116  0.000207  0.000269  0.000000e+00   \n",
       "8346        6  0.000362  0.000205  0.000267  0.000362  0.000000e+00   \n",
       "8347        6  0.001520  0.000328  0.000395  0.001162  0.000000e+00   \n",
       "8348        6  0.001143  0.000662  0.001143  0.000704  0.000000e+00   \n",
       "...       ...       ...       ...       ...       ...           ...   \n",
       "10970       6  0.053768  0.042410  0.053698  0.047392  2.394345e+09   \n",
       "10971       6  0.059873  0.046216  0.047414  0.056555  4.148512e+09   \n",
       "10972       6  0.057808  0.049869  0.056615  0.050167  2.356982e+09   \n",
       "10973       6  0.052472  0.048708  0.050138  0.050480  1.694323e+09   \n",
       "10974       6  0.051920  0.049297  0.050500  0.050083  1.286230e+09   \n",
       "\n",
       "          Marketcap  Year  Month  Day  \n",
       "8344   1.509085e+06  2013     12   16  \n",
       "8345   2.169688e+06  2013     12   17  \n",
       "8346   3.188943e+06  2013     12   18  \n",
       "8347   1.115034e+07  2013     12   19  \n",
       "8348   7.284337e+06  2013     12   20  \n",
       "...             ...   ...    ...  ...  \n",
       "10970  6.089686e+09  2021      2   23  \n",
       "10971  7.267918e+09  2021      2   24  \n",
       "10972  6.447665e+09  2021      2   25  \n",
       "10973  6.488523e+09  2021      2   26  \n",
       "10974  6.438193e+09  2021      2   27  \n",
       "\n",
       "[2631 rows x 10 columns]"
      ]
     },
     "execution_count": 19,
     "metadata": {},
     "output_type": "execute_result"
    }
   ],
   "source": [
    "# Have a look at the coin that interests me :)\n",
    "doge = df[df['Symbol'] == 6]\n",
    "doge"
   ]
  },
  {
   "cell_type": "code",
   "execution_count": 20,
   "id": "aggregate-acrylic",
   "metadata": {},
   "outputs": [],
   "source": [
    "# Split the data into features and labels\n",
    "X = df.drop('Close', axis=1)\n",
    "y = df['Close']"
   ]
  },
  {
   "cell_type": "code",
   "execution_count": 21,
   "id": "restricted-singles",
   "metadata": {},
   "outputs": [
    {
     "data": {
      "text/plain": [
       "((27292, 9), (27292,))"
      ]
     },
     "execution_count": 21,
     "metadata": {},
     "output_type": "execute_result"
    }
   ],
   "source": [
    "# Split the data into train and test sets\n",
    "from sklearn.model_selection import train_test_split\n",
    "X_train, X_test, y_train, y_test = train_test_split(X, y, test_size=0.2, random_state=42)\n",
    "X_train.shape, y_train.shape"
   ]
  },
  {
   "cell_type": "code",
   "execution_count": 196,
   "id": "blond-speech",
   "metadata": {},
   "outputs": [
    {
     "data": {
      "text/plain": [
       "RandomForestRegressor()"
      ]
     },
     "execution_count": 196,
     "metadata": {},
     "output_type": "execute_result"
    }
   ],
   "source": [
    "# Choosing an estimator (Model)\n",
    "from sklearn.svm import LinearSVR\n",
    "from sklearn.ensemble import RandomForestRegressor\n",
    "from sklearn.preprocessing import StandardScaler\n",
    "from sklearn.pipeline import make_pipeline\n",
    "\n",
    "# Support Vector Regressor\n",
    "linear = make_pipeline(StandardScaler(),\n",
    "                       LinearSVR(random_state=0, max_iter=10000))\n",
    "# RandomForestRegressor\n",
    "reg = RandomForestRegressor()\n",
    "\n",
    "\n",
    "linear.fit(X_train, y_train)\n",
    "reg.fit(X_train, y_train)"
   ]
  },
  {
   "cell_type": "code",
   "execution_count": 197,
   "id": "satisfactory-thread",
   "metadata": {},
   "outputs": [
    {
     "data": {
      "text/plain": [
       "(0.9990198534302881, 0.9994814850707424)"
      ]
     },
     "execution_count": 197,
     "metadata": {},
     "output_type": "execute_result"
    }
   ],
   "source": [
    "linear.score(X_test, y_test), reg.score(X_test, y_test)"
   ]
  },
  {
   "cell_type": "markdown",
   "id": "technical-programmer",
   "metadata": {},
   "source": [
    "**Why isn't this metric reliable?**"
   ]
  },
  {
   "cell_type": "code",
   "execution_count": 198,
   "id": "anticipated-piano",
   "metadata": {},
   "outputs": [],
   "source": [
    "# Build evaluation function to calculate the RMSLE (Root Mean Log Squared Error)\n",
    "from sklearn.metrics import mean_squared_log_error, mean_absolute_error, r2_score"
   ]
  },
  {
   "cell_type": "code",
   "execution_count": 199,
   "id": "destroyed-taylor",
   "metadata": {},
   "outputs": [],
   "source": [
    "def root_mean_log_squared_error(y_test, y_preds):\n",
    "    \"\"\"\n",
    "        Calculates the root mean squared log error between predictions and true labels\n",
    "    \"\"\"\n",
    "    return np.sqrt(mean_squared_log_error(y_test, y_preds))\n",
    "\n",
    "def score (model):\n",
    "    y_pred = model.predict(X_test)\n",
    "    scores = {\n",
    "        'RMSLE': root_mean_log_squared_error(y_test, y_pred),\n",
    "        'MAE': mean_absolute_error(y_test, y_pred),\n",
    "        'R^2': r2_score(y_test, y_pred),\n",
    "    }\n",
    "    return scores"
   ]
  },
  {
   "cell_type": "code",
   "execution_count": 200,
   "id": "completed-paintball",
   "metadata": {},
   "outputs": [
    {
     "data": {
      "text/plain": [
       "{'RMSLE': 0.017315420348499436,\n",
       " 'MAE': 9.766406942970118,\n",
       " 'R^2': 0.9994814850707424}"
      ]
     },
     "execution_count": 200,
     "metadata": {},
     "output_type": "execute_result"
    }
   ],
   "source": [
    "score(reg)"
   ]
  },
  {
   "cell_type": "markdown",
   "id": "brown-simulation",
   "metadata": {},
   "source": [
    "# Feature Importance\n",
    "\n",
    "Which attributes were most important when predicting the target variable <code>**Close**</code>"
   ]
  },
  {
   "cell_type": "code",
   "execution_count": 201,
   "id": "lasting-desert",
   "metadata": {},
   "outputs": [
    {
     "data": {
      "text/plain": [
       "(9, 9)"
      ]
     },
     "execution_count": 201,
     "metadata": {},
     "output_type": "execute_result"
    }
   ],
   "source": [
    "len(reg.feature_importances_), len(X_train.columns)"
   ]
  },
  {
   "cell_type": "code",
   "execution_count": 202,
   "id": "olympic-weekend",
   "metadata": {},
   "outputs": [],
   "source": [
    "import seaborn as sns\n",
    "def plot_features(cols, importance, n=20):\n",
    "    df = pd.DataFrame({'Features': cols,'Feature_Importances': importance}).sort_values('Feature_Importances', ascending=False).reset_index(drop=True)\n",
    "    \n",
    "    # Visualize the Feature importance matrices\n",
    "    fig, ax = plt.subplots(figsize=(10, 5))\n",
    "    ax.barh(df['Features'][:n], df['Feature_Importances'][:20])\n",
    "    ax.set_ylabel('Features')\n",
    "    ax.set_xlabel('Feature Importance')\n",
    "    ax.invert_yaxis()"
   ]
  },
  {
   "cell_type": "code",
   "execution_count": 203,
   "id": "recovered-myrtle",
   "metadata": {
    "scrolled": true
   },
   "outputs": [
    {
     "data": {
      "image/png": "[encoded data removed]",
      "text/plain": [
       "<Figure size 720x360 with 1 Axes>"
      ]
     },
     "metadata": {
      "needs_background": "light"
     },
     "output_type": "display_data"
    }
   ],
   "source": [
    "plot_features(X_train.columns, reg.feature_importances_)"
   ]
  },
  {
   "cell_type": "code",
   "execution_count": 205,
   "id": "adjustable-tourist",
   "metadata": {},
   "outputs": [],
   "source": [
    "# Export Model\n",
    "import pickle\n",
    "pickle.dump(reg, open('cryptopredictor.pkl','wb'))"
   ]
  },
  {
   "cell_type": "code",
   "execution_count": null,
   "id": "corporate-multiple",
   "metadata": {},
   "outputs": [],
   "source": []
  }
 ],
 "metadata": {
  "kernelspec": {
   "display_name": "Python 3",
   "language": "python",
   "name": "python3"
  },
  "language_info": {
   "codemirror_mode": {
    "name": "ipython",
    "version": 3
   },
   "file_extension": ".py",
   "mimetype": "text/x-python",
   "name": "python",
   "nbconvert_exporter": "python",
   "pygments_lexer": "ipython3",
   "version": "3.8.8"
  }
 },
 "nbformat": 4,
 "nbformat_minor": 5
}
